{
  "nbformat": 4,
  "nbformat_minor": 0,
  "metadata": {
    "colab": {
      "name": "Successful_Campaigns",
      "provenance": []
    },
    "kernelspec": {
      "name": "python3",
      "display_name": "Python 3"
    },
    "language_info": {
      "name": "python"
    }
  },
  "cells": [
    {
      "cell_type": "code",
      "execution_count": null,
      "metadata": {
        "colab": {
          "base_uri": "https://localhost:8080/"
        },
        "id": "UyxstbChI0bf",
        "outputId": "ad0253b1-19d2-4148-d7e5-5100500cc738"
      },
      "outputs": [
        {
          "output_type": "stream",
          "name": "stdout",
          "text": [
            "Drive already mounted at /content/drive; to attempt to forcibly remount, call drive.mount(\"/content/drive\", force_remount=True).\n"
          ]
        }
      ],
      "source": [
        "import pandas as pd\n",
        "import numpy as np\n",
        "import matplotlib.pyplot as plt\n",
        "from collections import Counter\n",
        "from google.colab import files\n",
        "import io\n",
        "from google.colab import drive\n",
        "drive.mount('/content/drive')\n",
        "\n",
        "df = pd.read_csv('/content/sample_data/DSI_kickstarterscrape_dataset.csv',encoding='cp850')\n",
        "\n",
        "#uploaded = files.upload()"
      ]
    },
    {
      "cell_type": "code",
      "source": [
        "# preprocessing stage of data\n",
        "#df = pd.read_csv(io.BytesIO(uploaded[\"DSI_kickstarterscrape_dataset.csv\"]),encoding='cp850') \n",
        "print(df.columns)\n",
        "collist= [x for x in df.columns]\n",
        "df.head()"
      ],
      "metadata": {
        "id": "vDE55FcyJ9Cf",
        "colab": {
          "base_uri": "https://localhost:8080/",
          "height": 721
        },
        "outputId": "72f2298d-eda3-4b46-9704-353d0c078e99"
      },
      "execution_count": null,
      "outputs": [
        {
          "output_type": "stream",
          "name": "stdout",
          "text": [
            "Index(['project id', 'name', 'url', 'category', 'subcategory', 'location',\n",
            "       'status', 'goal', 'pledged', 'funded percentage', 'backers',\n",
            "       'funded date', 'levels', 'reward levels', 'updates', 'comments',\n",
            "       'duration'],\n",
            "      dtype='object')\n"
          ]
        },
        {
          "output_type": "execute_result",
          "data": {
            "text/html": [
              "\n",
              "  <div id=\"df-4f0a8fba-d329-4dd7-a7c8-c27023690975\">\n",
              "    <div class=\"colab-df-container\">\n",
              "      <div>\n",
              "<style scoped>\n",
              "    .dataframe tbody tr th:only-of-type {\n",
              "        vertical-align: middle;\n",
              "    }\n",
              "\n",
              "    .dataframe tbody tr th {\n",
              "        vertical-align: top;\n",
              "    }\n",
              "\n",
              "    .dataframe thead th {\n",
              "        text-align: right;\n",
              "    }\n",
              "</style>\n",
              "<table border=\"1\" class=\"dataframe\">\n",
              "  <thead>\n",
              "    <tr style=\"text-align: right;\">\n",
              "      <th></th>\n",
              "      <th>project id</th>\n",
              "      <th>name</th>\n",
              "      <th>url</th>\n",
              "      <th>category</th>\n",
              "      <th>subcategory</th>\n",
              "      <th>location</th>\n",
              "      <th>status</th>\n",
              "      <th>goal</th>\n",
              "      <th>pledged</th>\n",
              "      <th>funded percentage</th>\n",
              "      <th>backers</th>\n",
              "      <th>funded date</th>\n",
              "      <th>levels</th>\n",
              "      <th>reward levels</th>\n",
              "      <th>updates</th>\n",
              "      <th>comments</th>\n",
              "      <th>duration</th>\n",
              "    </tr>\n",
              "  </thead>\n",
              "  <tbody>\n",
              "    <tr>\n",
              "      <th>0</th>\n",
              "      <td>39409</td>\n",
              "      <td>WHILE THE TREES SLEEP</td>\n",
              "      <td>http://www.kickstarter.com/projects/emiliesaba...</td>\n",
              "      <td>Film &amp; Video</td>\n",
              "      <td>Short Film</td>\n",
              "      <td>Columbia, MO</td>\n",
              "      <td>successful</td>\n",
              "      <td>10500.0</td>\n",
              "      <td>11545.0</td>\n",
              "      <td>1.099524</td>\n",
              "      <td>66</td>\n",
              "      <td>Fri, 19 Aug 2011 19:28:17 -0000</td>\n",
              "      <td>7</td>\n",
              "      <td>$25,$50,$100,$250,$500,$1,000,$2,500</td>\n",
              "      <td>10</td>\n",
              "      <td>2</td>\n",
              "      <td>30.00</td>\n",
              "    </tr>\n",
              "    <tr>\n",
              "      <th>1</th>\n",
              "      <td>126581</td>\n",
              "      <td>Educational Online Trading Card Game</td>\n",
              "      <td>http://www.kickstarter.com/projects/972789543/...</td>\n",
              "      <td>Games</td>\n",
              "      <td>Board &amp; Card Games</td>\n",
              "      <td>Maplewood, NJ</td>\n",
              "      <td>failed</td>\n",
              "      <td>4000.0</td>\n",
              "      <td>20.0</td>\n",
              "      <td>0.005000</td>\n",
              "      <td>2</td>\n",
              "      <td>Mon, 02 Aug 2010 03:59:00 -0000</td>\n",
              "      <td>5</td>\n",
              "      <td>$1,$5,$10,$25,$50</td>\n",
              "      <td>6</td>\n",
              "      <td>0</td>\n",
              "      <td>47.18</td>\n",
              "    </tr>\n",
              "    <tr>\n",
              "      <th>2</th>\n",
              "      <td>138119</td>\n",
              "      <td>STRUM</td>\n",
              "      <td>http://www.kickstarter.com/projects/185476022/...</td>\n",
              "      <td>Film &amp; Video</td>\n",
              "      <td>Animation</td>\n",
              "      <td>Los Angeles, CA</td>\n",
              "      <td>live</td>\n",
              "      <td>20000.0</td>\n",
              "      <td>56.0</td>\n",
              "      <td>0.002800</td>\n",
              "      <td>3</td>\n",
              "      <td>Fri, 08 Jun 2012 00:00:31 -0000</td>\n",
              "      <td>10</td>\n",
              "      <td>$1,$10,$25,$40,$50,$100,$250,$1,000,$1,337,$9,001</td>\n",
              "      <td>1</td>\n",
              "      <td>0</td>\n",
              "      <td>28.00</td>\n",
              "    </tr>\n",
              "    <tr>\n",
              "      <th>3</th>\n",
              "      <td>237090</td>\n",
              "      <td>GETTING OVER - One son's search to finally kno...</td>\n",
              "      <td>http://www.kickstarter.com/projects/charnick/g...</td>\n",
              "      <td>Film &amp; Video</td>\n",
              "      <td>Documentary</td>\n",
              "      <td>Los Angeles, CA</td>\n",
              "      <td>successful</td>\n",
              "      <td>6000.0</td>\n",
              "      <td>6535.0</td>\n",
              "      <td>1.089167</td>\n",
              "      <td>100</td>\n",
              "      <td>Sun, 08 Apr 2012 02:14:00 -0000</td>\n",
              "      <td>13</td>\n",
              "      <td>$1,$10,$25,$30,$50,$75,$85,$100,$110,$250,$500...</td>\n",
              "      <td>4</td>\n",
              "      <td>0</td>\n",
              "      <td>32.22</td>\n",
              "    </tr>\n",
              "    <tr>\n",
              "      <th>4</th>\n",
              "      <td>246101</td>\n",
              "      <td>The Launch of FlyeGrlRoyalty &amp;quot;The New Nam...</td>\n",
              "      <td>http://www.kickstarter.com/projects/flyegrlroy...</td>\n",
              "      <td>Fashion</td>\n",
              "      <td>Fashion</td>\n",
              "      <td>Novi, MI</td>\n",
              "      <td>failed</td>\n",
              "      <td>3500.0</td>\n",
              "      <td>0.0</td>\n",
              "      <td>0.000000</td>\n",
              "      <td>0</td>\n",
              "      <td>Wed, 01 Jun 2011 15:25:39 -0000</td>\n",
              "      <td>6</td>\n",
              "      <td>$10,$25,$50,$100,$150,$250</td>\n",
              "      <td>2</td>\n",
              "      <td>0</td>\n",
              "      <td>30.00</td>\n",
              "    </tr>\n",
              "  </tbody>\n",
              "</table>\n",
              "</div>\n",
              "      <button class=\"colab-df-convert\" onclick=\"convertToInteractive('df-4f0a8fba-d329-4dd7-a7c8-c27023690975')\"\n",
              "              title=\"Convert this dataframe to an interactive table.\"\n",
              "              style=\"display:none;\">\n",
              "        \n",
              "  <svg xmlns=\"http://www.w3.org/2000/svg\" height=\"24px\"viewBox=\"0 0 24 24\"\n",
              "       width=\"24px\">\n",
              "    <path d=\"M0 0h24v24H0V0z\" fill=\"none\"/>\n",
              "    <path d=\"M18.56 5.44l.94 2.06.94-2.06 2.06-.94-2.06-.94-.94-2.06-.94 2.06-2.06.94zm-11 1L8.5 8.5l.94-2.06 2.06-.94-2.06-.94L8.5 2.5l-.94 2.06-2.06.94zm10 10l.94 2.06.94-2.06 2.06-.94-2.06-.94-.94-2.06-.94 2.06-2.06.94z\"/><path d=\"M17.41 7.96l-1.37-1.37c-.4-.4-.92-.59-1.43-.59-.52 0-1.04.2-1.43.59L10.3 9.45l-7.72 7.72c-.78.78-.78 2.05 0 2.83L4 21.41c.39.39.9.59 1.41.59.51 0 1.02-.2 1.41-.59l7.78-7.78 2.81-2.81c.8-.78.8-2.07 0-2.86zM5.41 20L4 18.59l7.72-7.72 1.47 1.35L5.41 20z\"/>\n",
              "  </svg>\n",
              "      </button>\n",
              "      \n",
              "  <style>\n",
              "    .colab-df-container {\n",
              "      display:flex;\n",
              "      flex-wrap:wrap;\n",
              "      gap: 12px;\n",
              "    }\n",
              "\n",
              "    .colab-df-convert {\n",
              "      background-color: #E8F0FE;\n",
              "      border: none;\n",
              "      border-radius: 50%;\n",
              "      cursor: pointer;\n",
              "      display: none;\n",
              "      fill: #1967D2;\n",
              "      height: 32px;\n",
              "      padding: 0 0 0 0;\n",
              "      width: 32px;\n",
              "    }\n",
              "\n",
              "    .colab-df-convert:hover {\n",
              "      background-color: #E2EBFA;\n",
              "      box-shadow: 0px 1px 2px rgba(60, 64, 67, 0.3), 0px 1px 3px 1px rgba(60, 64, 67, 0.15);\n",
              "      fill: #174EA6;\n",
              "    }\n",
              "\n",
              "    [theme=dark] .colab-df-convert {\n",
              "      background-color: #3B4455;\n",
              "      fill: #D2E3FC;\n",
              "    }\n",
              "\n",
              "    [theme=dark] .colab-df-convert:hover {\n",
              "      background-color: #434B5C;\n",
              "      box-shadow: 0px 1px 3px 1px rgba(0, 0, 0, 0.15);\n",
              "      filter: drop-shadow(0px 1px 2px rgba(0, 0, 0, 0.3));\n",
              "      fill: #FFFFFF;\n",
              "    }\n",
              "  </style>\n",
              "\n",
              "      <script>\n",
              "        const buttonEl =\n",
              "          document.querySelector('#df-4f0a8fba-d329-4dd7-a7c8-c27023690975 button.colab-df-convert');\n",
              "        buttonEl.style.display =\n",
              "          google.colab.kernel.accessAllowed ? 'block' : 'none';\n",
              "\n",
              "        async function convertToInteractive(key) {\n",
              "          const element = document.querySelector('#df-4f0a8fba-d329-4dd7-a7c8-c27023690975');\n",
              "          const dataTable =\n",
              "            await google.colab.kernel.invokeFunction('convertToInteractive',\n",
              "                                                     [key], {});\n",
              "          if (!dataTable) return;\n",
              "\n",
              "          const docLinkHtml = 'Like what you see? Visit the ' +\n",
              "            '<a target=\"_blank\" href=https://colab.research.google.com/notebooks/data_table.ipynb>data table notebook</a>'\n",
              "            + ' to learn more about interactive tables.';\n",
              "          element.innerHTML = '';\n",
              "          dataTable['output_type'] = 'display_data';\n",
              "          await google.colab.output.renderOutput(dataTable, element);\n",
              "          const docLink = document.createElement('div');\n",
              "          docLink.innerHTML = docLinkHtml;\n",
              "          element.appendChild(docLink);\n",
              "        }\n",
              "      </script>\n",
              "    </div>\n",
              "  </div>\n",
              "  "
            ],
            "text/plain": [
              "   project id                                               name  \\\n",
              "0       39409                              WHILE THE TREES SLEEP   \n",
              "1      126581               Educational Online Trading Card Game   \n",
              "2      138119                                              STRUM   \n",
              "3      237090  GETTING OVER - One son's search to finally kno...   \n",
              "4      246101  The Launch of FlyeGrlRoyalty &quot;The New Nam...   \n",
              "\n",
              "                                                 url      category  \\\n",
              "0  http://www.kickstarter.com/projects/emiliesaba...  Film & Video   \n",
              "1  http://www.kickstarter.com/projects/972789543/...         Games   \n",
              "2  http://www.kickstarter.com/projects/185476022/...  Film & Video   \n",
              "3  http://www.kickstarter.com/projects/charnick/g...  Film & Video   \n",
              "4  http://www.kickstarter.com/projects/flyegrlroy...       Fashion   \n",
              "\n",
              "          subcategory         location      status     goal  pledged  \\\n",
              "0          Short Film     Columbia, MO  successful  10500.0  11545.0   \n",
              "1  Board & Card Games    Maplewood, NJ      failed   4000.0     20.0   \n",
              "2           Animation  Los Angeles, CA        live  20000.0     56.0   \n",
              "3         Documentary  Los Angeles, CA  successful   6000.0   6535.0   \n",
              "4             Fashion         Novi, MI      failed   3500.0      0.0   \n",
              "\n",
              "   funded percentage  backers                      funded date  levels  \\\n",
              "0           1.099524       66  Fri, 19 Aug 2011 19:28:17 -0000       7   \n",
              "1           0.005000        2  Mon, 02 Aug 2010 03:59:00 -0000       5   \n",
              "2           0.002800        3  Fri, 08 Jun 2012 00:00:31 -0000      10   \n",
              "3           1.089167      100  Sun, 08 Apr 2012 02:14:00 -0000      13   \n",
              "4           0.000000        0  Wed, 01 Jun 2011 15:25:39 -0000       6   \n",
              "\n",
              "                                       reward levels  updates  comments  \\\n",
              "0               $25,$50,$100,$250,$500,$1,000,$2,500       10         2   \n",
              "1                                  $1,$5,$10,$25,$50        6         0   \n",
              "2  $1,$10,$25,$40,$50,$100,$250,$1,000,$1,337,$9,001        1         0   \n",
              "3  $1,$10,$25,$30,$50,$75,$85,$100,$110,$250,$500...        4         0   \n",
              "4                         $10,$25,$50,$100,$150,$250        2         0   \n",
              "\n",
              "   duration  \n",
              "0     30.00  \n",
              "1     47.18  \n",
              "2     28.00  \n",
              "3     32.22  \n",
              "4     30.00  "
            ]
          },
          "metadata": {},
          "execution_count": 26
        }
      ]
    },
    {
      "cell_type": "code",
      "source": [
        "df.info()\n",
        "df.isna ().any () "
      ],
      "metadata": {
        "id": "G08g0R-6LIH1",
        "colab": {
          "base_uri": "https://localhost:8080/"
        },
        "outputId": "d56063de-0b65-4f93-abdd-a101cefac8de"
      },
      "execution_count": null,
      "outputs": [
        {
          "output_type": "stream",
          "name": "stdout",
          "text": [
            "<class 'pandas.core.frame.DataFrame'>\n",
            "RangeIndex: 45957 entries, 0 to 45956\n",
            "Data columns (total 17 columns):\n",
            " #   Column             Non-Null Count  Dtype  \n",
            "---  ------             --------------  -----  \n",
            " 0   project id         45957 non-null  int64  \n",
            " 1   name               45957 non-null  object \n",
            " 2   url                45957 non-null  object \n",
            " 3   category           45957 non-null  object \n",
            " 4   subcategory        45957 non-null  object \n",
            " 5   location           44635 non-null  object \n",
            " 6   status             45957 non-null  object \n",
            " 7   goal               45957 non-null  float64\n",
            " 8   pledged            45945 non-null  float64\n",
            " 9   funded percentage  45957 non-null  float64\n",
            " 10  backers            45957 non-null  int64  \n",
            " 11  funded date        45957 non-null  object \n",
            " 12  levels             45957 non-null  int64  \n",
            " 13  reward levels      45898 non-null  object \n",
            " 14  updates            45957 non-null  int64  \n",
            " 15  comments           45957 non-null  int64  \n",
            " 16  duration           45957 non-null  float64\n",
            "dtypes: float64(4), int64(5), object(8)\n",
            "memory usage: 6.0+ MB\n"
          ]
        },
        {
          "output_type": "execute_result",
          "data": {
            "text/plain": [
              "project id           False\n",
              "name                 False\n",
              "url                  False\n",
              "category             False\n",
              "subcategory          False\n",
              "location              True\n",
              "status               False\n",
              "goal                 False\n",
              "pledged               True\n",
              "funded percentage    False\n",
              "backers              False\n",
              "funded date          False\n",
              "levels               False\n",
              "reward levels         True\n",
              "updates              False\n",
              "comments             False\n",
              "duration             False\n",
              "dtype: bool"
            ]
          },
          "metadata": {},
          "execution_count": 27
        }
      ]
    },
    {
      "cell_type": "code",
      "source": [
        "df.fillna(0)\n",
        "print(df ['pledged'].sum (axis=0)/len(df['pledged']))"
      ],
      "metadata": {
        "id": "V7yYT0uo73Xt",
        "colab": {
          "base_uri": "https://localhost:8080/"
        },
        "outputId": "23969276-cd92-4412-ea35-0f4784950ded"
      },
      "execution_count": null,
      "outputs": [
        {
          "output_type": "stream",
          "name": "stdout",
          "text": [
            "4979.449137236982\n"
          ]
        }
      ]
    },
    {
      "cell_type": "code",
      "source": [
        "df.hist(column='backers') \n",
        "df.hist(column='duration') \n",
        "df['duration'].mean(axis=0)\n",
        "\n"
      ],
      "metadata": {
        "id": "YJCYU9kP9WtE",
        "colab": {
          "base_uri": "https://localhost:8080/",
          "height": 562
        },
        "outputId": "f61a6b73-5056-435e-eb61-c1115869541f"
      },
      "execution_count": null,
      "outputs": [
        {
          "output_type": "execute_result",
          "data": {
            "text/plain": [
              "39.995546924297706"
            ]
          },
          "metadata": {},
          "execution_count": 29
        },
        {
          "output_type": "display_data",
          "data": {
            "image/png": "[encoded data removed]",
            "text/plain": [
              "<Figure size 432x288 with 1 Axes>"
            ]
          },
          "metadata": {
            "needs_background": "light"
          }
        },
        {
          "output_type": "display_data",
          "data": {
            "image/png": "[encoded data removed]",
            "text/plain": [
              "<Figure size 432x288 with 1 Axes>"
            ]
          },
          "metadata": {
            "needs_background": "light"
          }
        }
      ]
    },
    {
      "cell_type": "markdown",
      "source": [
        "## As we see above, the mean of duration variable is very near 40, but most of the duration values (median) is not near 40 , that implies the variable duration is not normally distributed:\n",
        "\n",
        "\n",
        "\n",
        "---\n",
        "\n",
        "\n",
        "\n",
        "\n"
      ],
      "metadata": {
        "id": "QtUvYcB6WGFp"
      }
    },
    {
      "cell_type": "code",
      "source": [
        "df['duration'].plot(kind = 'box')\n",
        "df.info()"
      ],
      "metadata": {
        "id": "f1_0qFjW-ZK9",
        "colab": {
          "base_uri": "https://localhost:8080/",
          "height": 681
        },
        "outputId": "30acd6f6-de41-4ec4-e576-0ce4e3e4567b"
      },
      "execution_count": null,
      "outputs": [
        {
          "output_type": "stream",
          "name": "stdout",
          "text": [
            "<class 'pandas.core.frame.DataFrame'>\n",
            "RangeIndex: 45957 entries, 0 to 45956\n",
            "Data columns (total 17 columns):\n",
            " #   Column             Non-Null Count  Dtype  \n",
            "---  ------             --------------  -----  \n",
            " 0   project id         45957 non-null  int64  \n",
            " 1   name               45957 non-null  object \n",
            " 2   url                45957 non-null  object \n",
            " 3   category           45957 non-null  object \n",
            " 4   subcategory        45957 non-null  object \n",
            " 5   location           44635 non-null  object \n",
            " 6   status             45957 non-null  object \n",
            " 7   goal               45957 non-null  float64\n",
            " 8   pledged            45945 non-null  float64\n",
            " 9   funded percentage  45957 non-null  float64\n",
            " 10  backers            45957 non-null  int64  \n",
            " 11  funded date        45957 non-null  object \n",
            " 12  levels             45957 non-null  int64  \n",
            " 13  reward levels      45898 non-null  object \n",
            " 14  updates            45957 non-null  int64  \n",
            " 15  comments           45957 non-null  int64  \n",
            " 16  duration           45957 non-null  float64\n",
            "dtypes: float64(4), int64(5), object(8)\n",
            "memory usage: 6.0+ MB\n"
          ]
        },
        {
          "output_type": "display_data",
          "data": {
            "image/png": "[encoded data removed]",
            "text/plain": [
              "<Figure size 432x288 with 1 Axes>"
            ]
          },
          "metadata": {
            "needs_background": "light"
          }
        }
      ]
    },
    {
      "cell_type": "code",
      "source": [
        "\n",
        "df.head(2)"
      ],
      "metadata": {
        "id": "7dufVTjdqgI7",
        "colab": {
          "base_uri": "https://localhost:8080/",
          "height": 332
        },
        "outputId": "8eb0e673-9ef2-43c7-c5a2-d873189c2036"
      },
      "execution_count": null,
      "outputs": [
        {
          "output_type": "execute_result",
          "data": {
            "text/html": [
              "\n",
              "  <div id=\"df-0ae011eb-5fb1-4d14-a15f-1114c3edcc16\">\n",
              "    <div class=\"colab-df-container\">\n",
              "      <div>\n",
              "<style scoped>\n",
              "    .dataframe tbody tr th:only-of-type {\n",
              "        vertical-align: middle;\n",
              "    }\n",
              "\n",
              "    .dataframe tbody tr th {\n",
              "        vertical-align: top;\n",
              "    }\n",
              "\n",
              "    .dataframe thead th {\n",
              "        text-align: right;\n",
              "    }\n",
              "</style>\n",
              "<table border=\"1\" class=\"dataframe\">\n",
              "  <thead>\n",
              "    <tr style=\"text-align: right;\">\n",
              "      <th></th>\n",
              "      <th>project id</th>\n",
              "      <th>name</th>\n",
              "      <th>url</th>\n",
              "      <th>category</th>\n",
              "      <th>subcategory</th>\n",
              "      <th>location</th>\n",
              "      <th>status</th>\n",
              "      <th>goal</th>\n",
              "      <th>pledged</th>\n",
              "      <th>funded percentage</th>\n",
              "      <th>backers</th>\n",
              "      <th>funded date</th>\n",
              "      <th>levels</th>\n",
              "      <th>reward levels</th>\n",
              "      <th>updates</th>\n",
              "      <th>comments</th>\n",
              "      <th>duration</th>\n",
              "    </tr>\n",
              "  </thead>\n",
              "  <tbody>\n",
              "    <tr>\n",
              "      <th>0</th>\n",
              "      <td>39409</td>\n",
              "      <td>WHILE THE TREES SLEEP</td>\n",
              "      <td>http://www.kickstarter.com/projects/emiliesaba...</td>\n",
              "      <td>Film &amp; Video</td>\n",
              "      <td>Short Film</td>\n",
              "      <td>Columbia, MO</td>\n",
              "      <td>successful</td>\n",
              "      <td>10500.0</td>\n",
              "      <td>11545.0</td>\n",
              "      <td>1.099524</td>\n",
              "      <td>66</td>\n",
              "      <td>Fri, 19 Aug 2011 19:28:17 -0000</td>\n",
              "      <td>7</td>\n",
              "      <td>$25,$50,$100,$250,$500,$1,000,$2,500</td>\n",
              "      <td>10</td>\n",
              "      <td>2</td>\n",
              "      <td>30.00</td>\n",
              "    </tr>\n",
              "    <tr>\n",
              "      <th>1</th>\n",
              "      <td>126581</td>\n",
              "      <td>Educational Online Trading Card Game</td>\n",
              "      <td>http://www.kickstarter.com/projects/972789543/...</td>\n",
              "      <td>Games</td>\n",
              "      <td>Board &amp; Card Games</td>\n",
              "      <td>Maplewood, NJ</td>\n",
              "      <td>failed</td>\n",
              "      <td>4000.0</td>\n",
              "      <td>20.0</td>\n",
              "      <td>0.005000</td>\n",
              "      <td>2</td>\n",
              "      <td>Mon, 02 Aug 2010 03:59:00 -0000</td>\n",
              "      <td>5</td>\n",
              "      <td>$1,$5,$10,$25,$50</td>\n",
              "      <td>6</td>\n",
              "      <td>0</td>\n",
              "      <td>47.18</td>\n",
              "    </tr>\n",
              "  </tbody>\n",
              "</table>\n",
              "</div>\n",
              "      <button class=\"colab-df-convert\" onclick=\"convertToInteractive('df-0ae011eb-5fb1-4d14-a15f-1114c3edcc16')\"\n",
              "              title=\"Convert this dataframe to an interactive table.\"\n",
              "              style=\"display:none;\">\n",
              "        \n",
              "  <svg xmlns=\"http://www.w3.org/2000/svg\" height=\"24px\"viewBox=\"0 0 24 24\"\n",
              "       width=\"24px\">\n",
              "    <path d=\"M0 0h24v24H0V0z\" fill=\"none\"/>\n",
              "    <path d=\"M18.56 5.44l.94 2.06.94-2.06 2.06-.94-2.06-.94-.94-2.06-.94 2.06-2.06.94zm-11 1L8.5 8.5l.94-2.06 2.06-.94-2.06-.94L8.5 2.5l-.94 2.06-2.06.94zm10 10l.94 2.06.94-2.06 2.06-.94-2.06-.94-.94-2.06-.94 2.06-2.06.94z\"/><path d=\"M17.41 7.96l-1.37-1.37c-.4-.4-.92-.59-1.43-.59-.52 0-1.04.2-1.43.59L10.3 9.45l-7.72 7.72c-.78.78-.78 2.05 0 2.83L4 21.41c.39.39.9.59 1.41.59.51 0 1.02-.2 1.41-.59l7.78-7.78 2.81-2.81c.8-.78.8-2.07 0-2.86zM5.41 20L4 18.59l7.72-7.72 1.47 1.35L5.41 20z\"/>\n",
              "  </svg>\n",
              "      </button>\n",
              "      \n",
              "  <style>\n",
              "    .colab-df-container {\n",
              "      display:flex;\n",
              "      flex-wrap:wrap;\n",
              "      gap: 12px;\n",
              "    }\n",
              "\n",
              "    .colab-df-convert {\n",
              "      background-color: #E8F0FE;\n",
              "      border: none;\n",
              "      border-radius: 50%;\n",
              "      cursor: pointer;\n",
              "      display: none;\n",
              "      fill: #1967D2;\n",
              "      height: 32px;\n",
              "      padding: 0 0 0 0;\n",
              "      width: 32px;\n",
              "    }\n",
              "\n",
              "    .colab-df-convert:hover {\n",
              "      background-color: #E2EBFA;\n",
              "      box-shadow: 0px 1px 2px rgba(60, 64, 67, 0.3), 0px 1px 3px 1px rgba(60, 64, 67, 0.15);\n",
              "      fill: #174EA6;\n",
              "    }\n",
              "\n",
              "    [theme=dark] .colab-df-convert {\n",
              "      background-color: #3B4455;\n",
              "      fill: #D2E3FC;\n",
              "    }\n",
              "\n",
              "    [theme=dark] .colab-df-convert:hover {\n",
              "      background-color: #434B5C;\n",
              "      box-shadow: 0px 1px 3px 1px rgba(0, 0, 0, 0.15);\n",
              "      filter: drop-shadow(0px 1px 2px rgba(0, 0, 0, 0.3));\n",
              "      fill: #FFFFFF;\n",
              "    }\n",
              "  </style>\n",
              "\n",
              "      <script>\n",
              "        const buttonEl =\n",
              "          document.querySelector('#df-0ae011eb-5fb1-4d14-a15f-1114c3edcc16 button.colab-df-convert');\n",
              "        buttonEl.style.display =\n",
              "          google.colab.kernel.accessAllowed ? 'block' : 'none';\n",
              "\n",
              "        async function convertToInteractive(key) {\n",
              "          const element = document.querySelector('#df-0ae011eb-5fb1-4d14-a15f-1114c3edcc16');\n",
              "          const dataTable =\n",
              "            await google.colab.kernel.invokeFunction('convertToInteractive',\n",
              "                                                     [key], {});\n",
              "          if (!dataTable) return;\n",
              "\n",
              "          const docLinkHtml = 'Like what you see? Visit the ' +\n",
              "            '<a target=\"_blank\" href=https://colab.research.google.com/notebooks/data_table.ipynb>data table notebook</a>'\n",
              "            + ' to learn more about interactive tables.';\n",
              "          element.innerHTML = '';\n",
              "          dataTable['output_type'] = 'display_data';\n",
              "          await google.colab.output.renderOutput(dataTable, element);\n",
              "          const docLink = document.createElement('div');\n",
              "          docLink.innerHTML = docLinkHtml;\n",
              "          element.appendChild(docLink);\n",
              "        }\n",
              "      </script>\n",
              "    </div>\n",
              "  </div>\n",
              "  "
            ],
            "text/plain": [
              "   project id                                  name  \\\n",
              "0       39409                 WHILE THE TREES SLEEP   \n",
              "1      126581  Educational Online Trading Card Game   \n",
              "\n",
              "                                                 url      category  \\\n",
              "0  http://www.kickstarter.com/projects/emiliesaba...  Film & Video   \n",
              "1  http://www.kickstarter.com/projects/972789543/...         Games   \n",
              "\n",
              "          subcategory       location      status     goal  pledged  \\\n",
              "0          Short Film   Columbia, MO  successful  10500.0  11545.0   \n",
              "1  Board & Card Games  Maplewood, NJ      failed   4000.0     20.0   \n",
              "\n",
              "   funded percentage  backers                      funded date  levels  \\\n",
              "0           1.099524       66  Fri, 19 Aug 2011 19:28:17 -0000       7   \n",
              "1           0.005000        2  Mon, 02 Aug 2010 03:59:00 -0000       5   \n",
              "\n",
              "                          reward levels  updates  comments  duration  \n",
              "0  $25,$50,$100,$250,$500,$1,000,$2,500       10         2     30.00  \n",
              "1                     $1,$5,$10,$25,$50        6         0     47.18  "
            ]
          },
          "metadata": {},
          "execution_count": 31
        }
      ]
    },
    {
      "cell_type": "code",
      "source": [
        "#@title Default title text\n",
        "# making boolean series for a team name\n",
        "ideal_length = df[\"status\"]==\"successful\"\n",
        "ideal_fund = df[\"funded percentage\"] >= 1.0\n",
        "# filtering data on basis of both filters\n",
        "#data.where(filter1 & filter2, inplace = True)\n",
        "#ideal_length = ideal_length.sort_values('duration', ascending=False) # sort by duration \n",
        "# filtering data on basis of both filters\n",
        "ideal = df.where(ideal_length&ideal_fund).dropna().sort_values('duration', ascending=False).groupby(by=\"duration\", sort=False,as_index=True)\n",
        "#dict_key = dict(ideal.groups)\n",
        "#new_dict = []\n",
        "#values = []\n",
        "#l = []\n",
        "df['funded percentage']= df['funded percentage'].round(2)\n",
        "ideal_backers = df.where(ideal_length&ideal_fund).dropna().groupby(by=['backers','funded percentage'],sort=False,as_index=True).size()\n",
        "l1 = sorted(ideal_backers.iteritems(), key = lambda x: x[1],reverse=True)\n",
        "print(\"The top 3 backers and funded_percentage combination around for campaigning is \")\n",
        "for i in l1[:3]:\n",
        "  print(i[0],i[1])\n",
        "print(ideal_backers)\n",
        "\n",
        "ideal_backers1 = df.where(ideal_length&ideal_fund).dropna().groupby(by=['funded percentage','backers'],sort=False,as_index=True).size()\n",
        "l1 = sorted(ideal_backers1.iteritems(), key = lambda x: x[1],reverse=True)\n",
        "print(\"The top 3 funded_percentage and backers combination  around for campaigning is \")\n",
        "for i in l1[:3]:\n",
        "  print(i[0],i[1])\n",
        "print(ideal_backers1)\n",
        "\n",
        "\n",
        "ideal_backers2 = df.where(ideal_length&ideal_fund).dropna().groupby(by=['funded percentage'],sort=False,as_index=True).size()\n",
        "l1 = sorted(ideal_backers2.iteritems(), key = lambda x: x[1],reverse=True)\n",
        "print(\"The top 3 percentage alone around for campaigning is \")\n",
        "for i in l1[:3]:\n",
        "  print(i[0])\n",
        "print(ideal_backers2)\n",
        "\n",
        "ideal_backers3 = df.where(ideal_length&ideal_fund).dropna().groupby(by=['backers'],sort=False,as_index=True).size()\n",
        "l1 = sorted(ideal_backers3.iteritems(), key = lambda x: x[1],reverse=True)\n",
        "print(\"The top 3 backers alone around for campaigning is \")\n",
        "for i in l1[:3]:\n",
        "  print(i[0])   \n",
        "\n",
        "#for k,v in zip(dict_key.keys(),dict_key.values()):\n",
        "#    l.append(int(k))\n",
        "#    values.append(v)\n",
        "#for i,x in enumerate(dict_key):\n",
        "#   new_dict.append((l[i],values[i]))\n",
        "#dict_proc = dict(new_dict)\n",
        "#print(dict_proc)\n",
        "#l1 = []\n",
        "#for x,y in zip(dict_proc.keys(),dict_proc.values()):\n",
        "#  l1.append((x,len(y)))\n",
        "#print(l1)\n",
        "id = ideal.size()\n",
        "#for x in id.iteritems():\n",
        "#   print(x)\n",
        "duration = id.to_frame(name= 'frequency').reset_index()\n",
        "print(duration)\n",
        "l1 = sorted(id.iteritems(), key = lambda x: x[1],reverse=True)\n",
        "print(\"The top 3 ideal duration for campaigning is \")\n",
        "for i in l1[:3]:\n",
        "  print(i[0])\n",
        "\n",
        "\n",
        "  \n",
        "\n",
        "#l2=dict(l2)\n",
        "\n",
        "#df.where(filte1 & filter2, inplace = True)\n",
        "  \n",
        "#"
      ],
      "metadata": {
        "id": "7-lyHuQ6sEcF",
        "colab": {
          "base_uri": "https://localhost:8080/"
        },
        "outputId": "af86a4cc-2c24-406a-db1b-aae08d19131f"
      },
      "execution_count": null,
      "outputs": [
        {
          "output_type": "stream",
          "name": "stdout",
          "text": [
            "The top 3 backers and funded_percentage combination around for campaigning is \n",
            "(12.0, 1.0) 48\n",
            "(18.0, 1.0) 47\n",
            "(16.0, 1.0) 46\n",
            "backers  funded percentage\n",
            "66.0     1.10                  6\n",
            "100.0    1.09                  3\n",
            "39.0     1.02                 14\n",
            "46.0     1.09                  4\n",
            "30.0     1.12                  6\n",
            "                              ..\n",
            "107.0    1.70                  2\n",
            "134.0    1.33                  1\n",
            "551.0    1.25                  1\n",
            "119.0    1.26                  1\n",
            "16.0     4.42                  1\n",
            "Length: 9873, dtype: int64\n",
            "The top 3 funded_percentage and backers combination  around for campaigning is \n",
            "(1.0, 12.0) 48\n",
            "(1.0, 18.0) 47\n",
            "(1.0, 16.0) 46\n",
            "funded percentage  backers\n",
            "1.10               66.0        6\n",
            "1.09               100.0       3\n",
            "1.02               39.0       14\n",
            "1.09               46.0        4\n",
            "1.12               30.0        6\n",
            "                              ..\n",
            "1.70               107.0       2\n",
            "1.33               134.0       1\n",
            "1.25               551.0       1\n",
            "1.26               119.0       1\n",
            "4.42               16.0        1\n",
            "Length: 9873, dtype: int64\n",
            "The top 3 percentage alone around for campaigning is \n",
            "1.0\n",
            "1.01\n",
            "1.02\n",
            "funded percentage\n",
            "1.10       580\n",
            "1.09       561\n",
            "1.02      1272\n",
            "1.12       478\n",
            "1.31       128\n",
            "          ... \n",
            "7.46         1\n",
            "6.67         1\n",
            "14.14        1\n",
            "4.27         2\n",
            "280.14       2\n",
            "Length: 690, dtype: int64\n",
            "The top 3 backers alone around for campaigning is \n",
            "21.0\n",
            "25.0\n",
            "22.0\n",
            "      duration  frequency\n",
            "0        91.96          4\n",
            "1        91.00         19\n",
            "2        90.96        113\n",
            "3        90.95          1\n",
            "4        90.92          1\n",
            "...        ...        ...\n",
            "4582      1.94          1\n",
            "4583      1.93          1\n",
            "4584      1.03          1\n",
            "4585      1.01          2\n",
            "4586      1.00          3\n",
            "\n",
            "[4587 rows x 2 columns]\n",
            "The top 3 ideal duration for campaigning is \n",
            "30.0\n",
            "60.0\n",
            "45.0\n"
          ]
        }
      ]
    },
    {
      "cell_type": "code",
      "source": [
        "ideal = df.where(ideal_length&ideal_fund).dropna().sort_values('duration', ascending=False)\n",
        "#dict_key = dict(ideal.groups)\n",
        "\n",
        "Duration = [l[0] for l in l1[:3]]\n",
        "Duration_Frequency = [l[1] for l in l1[:3]]\n",
        "print(Duration)\n",
        "print(Duration_Frequency)\n",
        "fig, ax = plt.subplots()\n",
        "rects1 = ax.bar(Duration, Duration_Frequency, color=['burlywood', 'Chocolate', 'coral', 'cornflowerblue'])\n",
        "\n",
        "# Add some text for labels, title and custom x-axis tick labels, etc.\n",
        "ax.set_ylabel('Frequency of Duration in Dataframe', fontsize=12)\n",
        "ax.set_xlabel('Duration', fontsize=12)\n",
        "ax.set_title('Total frequency count in different duration', fontsize=12)\n",
        "ax.set_xticks(Duration)\n",
        "ax.set_xticklabels(Duration)\n",
        "#ax.barh(Duration_Frequency, width=100)\n",
        "ax.set_yticks(Duration_Frequency)\n",
        "#ax.bar_label(rects1,label_type='center')\n",
        "fig.tight_layout()\n",
        "fig.savefig('Histogram_of_Duration', dpi=200)\n",
        "plt.pie(Duration_Frequency, labels = Duration , autopct='%1.1f%%')\n",
        "plt.title(\"Duration distribution in dataset\")\n",
        "plt.show()\n",
        "\n",
        "\n",
        "id_d1 = ideal.groupby(by=\"duration\",sort=False,as_index=True).mean()\n",
        "ide = pd.Series(id_d1[\"backers\"])\n",
        "fund_ide = pd.Series(id_d1[\"funded percentage\"])\n",
        "goal1 = ide.where(ide.index == 45.0).dropna()\n",
        "goal2 = ide.where(ide.index == 60.0).dropna()\n",
        "print(goal1,goal2)\n",
        "plt.show()"
      ],
      "metadata": {
        "id": "ZmjMfdT3mtxR",
        "colab": {
          "base_uri": "https://localhost:8080/",
          "height": 401
        },
        "outputId": "82ee6350-d2eb-4545-a9af-cb53b5491eb0"
      },
      "execution_count": null,
      "outputs": [
        {
          "output_type": "stream",
          "name": "stdout",
          "text": [
            "[30.0, 60.0, 45.0]\n",
            "[5041, 908, 788]\n"
          ]
        },
        {
          "output_type": "display_data",
          "data": {
            "image/png": "[encoded data removed]",
            "text/plain": [
              "<Figure size 432x288 with 1 Axes>"
            ]
          },
          "metadata": {}
        },
        {
          "output_type": "stream",
          "name": "stdout",
          "text": [
            "duration\n",
            "45.0    141.784264\n",
            "Name: backers, dtype: float64 duration\n",
            "60.0    161.44163\n",
            "Name: backers, dtype: float64\n"
          ]
        }
      ]
    },
    {
      "cell_type": "code",
      "source": [
        "from pandas._libs.tslibs.nattype import NaT\n",
        "from datetime import datetime, timedelta\n",
        "z = []\n",
        "# group by both funded percentage and backers and see # multiindex\n",
        "ideal_time_start = df[\"status\"]==\"successful\"\n",
        "ideal_fund = df[\"funded percentage\"] >= 1.0\n",
        "# filtering data on basis of both filters\n",
        "#data.where(filter1 & filter2, inplace = True)\n",
        "#ideal_length = ideal_length.sort_values('duration', ascending=False) # sort by duration \n",
        "# filtering data on basis of both filters\n",
        "df1 = df.where(ideal_time_start & ideal_fund).dropna()\n",
        "\n",
        "for i,x in enumerate(df1['funded date']):\n",
        " \n",
        "  z.append(pd.to_datetime(str(x)[0:25], format='%a, %d %b %Y %X'))\n",
        "    \n",
        "df1['funded_date'] = z\n",
        "# Using current time\n",
        "  \n",
        "\n",
        "# Some another datetime\n",
        "exact_start =[]\n",
        "for i,(x,x1) in enumerate(zip(df1['funded_date'],df1['duration'])):\n",
        "  \n",
        "  dur = int(x1)\n",
        "  \n",
        "\n",
        "  exact_start.append(x -  timedelta(days = dur))\n",
        "\n",
        "df1['exact_start_time'] = exact_start\n",
        "\n",
        "l2 = dict({(1 ,\"January\"),(2,\"February\"),(3,\"March\"),(4,\"April\"),(5,\"May\"),(6,\"June\")})\n",
        "\n",
        "df1['month_start'] = df1['exact_start_time'].dt.month\n",
        "df1['day_start'] = df1['exact_start_time'].dt.day\n",
        "df1['hour_start'] = df1['exact_start_time'].dt.hour\n",
        "\n",
        "\n",
        "id_m = df1.groupby(by=[\"month_start\"],sort=False,as_index=True).size()\n",
        "id_d = df1.groupby(by=\"day_start\",sort=False,as_index=True).size()\n",
        "id_d1 = df1.groupby(by=\"day_start\",sort=False,as_index=True).mean()\n",
        "id_h = df1.groupby(by=\"hour_start\",sort=False,as_index=True).size()\n",
        "#groupby(by=\"duration\", sort=False,as_index=True)\n",
        "print(\"The top 3 ideal month around for launching the successful campaign is \")\n",
        "l1 = sorted(id_m.iteritems(), key = lambda x: x[1],reverse=True)\n",
        "for l in l1[:3]:\n",
        "  print(l2.get(l[0]),l )\n",
        "print(\"The top 3 hours to be successfully funded are as follows\")\n",
        "Month = [l2.get(l[0]) for l in l1[:3]]\n",
        "Month_Frequency = [l[1] for l in l1[:3]]\n",
        "print(Month)\n",
        "print(Month_Frequency)\n",
        "fig, ax = plt.subplots()\n",
        "rects1 = ax.bar(Month,Month_Frequency, color=['burlywood', 'Chocolate', 'coral', 'cornflowerblue'])\n",
        "\n",
        "# Add some text for labels, title and custom x-axis tick labels, etc.\n",
        "ax.set_ylabel('Frequency of Month in Dataframe', fontsize=12)\n",
        "ax.set_xlabel('Month', fontsize=12)\n",
        "ax.set_title('The top 3 ideal month around for launching the successful campaign is', fontsize=12)\n",
        "ax.set_xticks(Month)\n",
        "ax.set_xticklabels(Month)\n",
        "ax.barh(Month_Frequency,width=2, label= rects1)\n",
        "ax.set_yticks(Month_Frequency)\n",
        "#ax.bar_label(rects1,label_type='center')\n",
        "fig.tight_layout()\n",
        "fig.savefig('Histogram_of_Duration', dpi=200)\n",
        "plt.show()\n",
        "\n",
        "plt.pie(Month_Frequency, labels = Month , autopct='%1.1f%%')\n",
        "plt.title(\"Month distribution in successfully funded dataset\")\n",
        "plt.show()\n",
        "\n",
        "\n",
        "l1 = sorted(id_h.iteritems(), key = lambda x: x[1],reverse=True)\n",
        "for l in l1[:3]:\n",
        "  print(l )    \n",
        "\n",
        "hour = [l[0] for l in l1[:3]]\n",
        "hour_Frequency = [l[1] for l in l1[:3]]\n",
        "\n",
        "fig, ax = plt.subplots()\n",
        "rects1 = ax.bar(hour,hour_Frequency, color=['burlywood', 'Chocolate', 'coral', 'cornflowerblue'])\n",
        "\n",
        "# Add some text for labels, title and custom x-axis tick labels, etc.\n",
        "ax.set_ylabel('Frequency of hours in Dataframe', fontsize=12)\n",
        "ax.set_xlabel('Hour', fontsize=12)\n",
        "ax.set_title('The top 3 hours around for launching the successful campaign is', fontsize=12)\n",
        "ax.set_xticks(hour)\n",
        "ax.set_xticklabels(hour)\n",
        "ax.barh(hour_Frequency,width=2, label= rects1)\n",
        "ax.set_yticks(hour_Frequency)\n",
        "\n",
        "#ax.bar_label(rects1,label_type='center')\n",
        "fig.tight_layout()\n",
        "fig.savefig('Histogram_of_Duration', dpi=200)\n",
        "plt.show()\n",
        "\n",
        "\n",
        "print(\"The top 3 days to be successfully funded are as follows\")\n",
        "l1 = sorted(id_d.iteritems(), key = lambda x: x[1],reverse=True)\n",
        "for l in l1[:3]:\n",
        "  print(l )    \n",
        "\n",
        "day = [l[0] for l in l1[:3]]\n",
        "day_Frequency = [l[1] for l in l1[:3]]\n",
        "\n",
        "fig, ax = plt.subplots()\n",
        "rects1 = ax.bar(day,day_Frequency, color=['burlywood', 'Chocolate', 'coral', 'cornflowerblue'])\n",
        "\n",
        "# Add some text for labels, title and custom x-axis tick labels, etc.\n",
        "ax.set_ylabel('Frequency of days in Dataframe', fontsize=12)\n",
        "ax.set_xlabel('Day', fontsize=12)\n",
        "ax.set_title('The top 3 ideal days in month around for launching the successful campaign is', fontsize=12)\n",
        "ax.set_xticks(day)\n",
        "ax.set_xticklabels(day)\n",
        "ax.barh(day_Frequency,width=2, label= rects1)\n",
        "ax.set_yticks(day_Frequency)\n",
        "ax.bar\n",
        "#ax.bar_label(rects1,label_type='center')\n",
        "fig.tight_layout()\n",
        "fig.savefig('Histogram_of_Duration', dpi=200)\n",
        "plt.show()\n",
        "\n",
        "\n",
        "plt.pie(day_Frequency, labels = day , autopct='%1.1f%%')\n",
        "plt.title(\"day distribution in successfully funded dataset\")\n",
        "plt.show()\n",
        "\n",
        "\n",
        "\n",
        "\n",
        "\n",
        "ide = pd.Series(id_d1[\"backers\"])\n",
        "fund_ide = pd.Series(id_d1[\"funded percentage\"])\n",
        "goal1 = ide.where(ide.index == 3).dropna()\n",
        "goal2 = ide.where(ide.index == 2).dropna()\n",
        "print(goal1,goal2)\n",
        "\n",
        "goal1 = fund_ide.where(fund_ide.index == 3).dropna()\n",
        "goal2 = fund_ide.where(fund_ide.index == 2).dropna()\n",
        "print(goal1,goal2)\n",
        "#pd.to_datetime(df['funded date'][0:25], format='%a, %d %b %Y %X')"
      ],
      "metadata": {
        "colab": {
          "base_uri": "https://localhost:8080/",
          "height": 1000
        },
        "id": "k4-x3-L8DKrk",
        "outputId": "41902925-f98f-431c-bfe2-bdb606283df2"
      },
      "execution_count": null,
      "outputs": [
        {
          "output_type": "stream",
          "name": "stdout",
          "text": [
            "The top 3 ideal month around for launching the successful campaign is \n",
            "March (3, 2989)\n",
            "April (4, 2697)\n",
            "February (2, 2488)\n",
            "The top 3 hours to be successfully funded are as follows\n",
            "['March', 'April', 'February']\n",
            "[2989, 2697, 2488]\n"
          ]
        },
        {
          "output_type": "display_data",
          "data": {
            "image/png": "[encoded data removed]",
            "text/plain": [
              "<Figure size 432x288 with 1 Axes>"
            ]
          },
          "metadata": {
            "needs_background": "light"
          }
        },
        {
          "output_type": "display_data",
          "data": {
            "image/png": "[encoded data removed]",
            "text/plain": [
              "<Figure size 432x288 with 1 Axes>"
            ]
          },
          "metadata": {}
        },
        {
          "output_type": "stream",
          "name": "stdout",
          "text": [
            "(3, 2394)\n",
            "(4, 2128)\n",
            "(16, 1200)\n"
          ]
        },
        {
          "output_type": "display_data",
          "data": {
            "image/png": "[encoded data removed]",
            "text/plain": [
              "<Figure size 432x288 with 1 Axes>"
            ]
          },
          "metadata": {
            "needs_background": "light"
          }
        },
        {
          "output_type": "stream",
          "name": "stdout",
          "text": [
            "The top 3 days to be successfully funded are as follows\n",
            "(2, 919)\n",
            "(3, 852)\n",
            "(1, 829)\n"
          ]
        },
        {
          "output_type": "display_data",
          "data": {
            "image/png": "[encoded data removed]",
            "text/plain": [
              "<Figure size 432x288 with 1 Axes>"
            ]
          },
          "metadata": {
            "needs_background": "light"
          }
        },
        {
          "output_type": "display_data",
          "data": {
            "image/png": "[encoded data removed]",
            "text/plain": [
              "<Figure size 432x288 with 1 Axes>"
            ]
          },
          "metadata": {}
        },
        {
          "output_type": "stream",
          "name": "stdout",
          "text": [
            "day_start\n",
            "3    93.833333\n",
            "Name: backers, dtype: float64 day_start\n",
            "2    113.078346\n",
            "Name: backers, dtype: float64\n",
            "day_start\n",
            "3    1.50027\n",
            "Name: funded percentage, dtype: float64 day_start\n",
            "2    1.478455\n",
            "Name: funded percentage, dtype: float64\n"
          ]
        }
      ]
    },
    {
      "cell_type": "code",
      "source": [
        "len(\"Fri, 19 Aug 2011 19:28:17\")\n",
        "dt = pd.to_datetime(str(df['funded date'][0])[0:25], format='%a, %d %b %Y %X')"
      ],
      "metadata": {
        "id": "pZN64xa7EnvL"
      },
      "execution_count": null,
      "outputs": []
    },
    {
      "cell_type": "code",
      "source": [
        "print(\"The ideal pledge goal\")\n",
        "ideal_time_start = df[\"status\"]==\"successful\"\n",
        "ideal_fund = df[\"funded percentage\"] >= 1.0\n",
        "df1 = df.where(ideal_time_start & ideal_fund).dropna()\n",
        "id_goal = df1.groupby(by=\"goal\",sort=False,as_index=True).mean()\n",
        "id_goal[\"backers\"]\n",
        "goal = pd.Series(id_goal[\"backers\"])\n",
        "fund_goal = pd.Series(id_goal[\"funded percentage\"])\n",
        "goal3 = goal.where(goal.index == 5000.0).dropna()\n",
        "goal1 = goal.where(goal.index == 2000.0).dropna()\n",
        "goal2 = goal.where(goal.index == 3000.0).dropna()\n",
        "print(goal3,goal1,goal2)\n",
        "goal3 = fund_goal.where(fund_goal.index == 5000.0).dropna()\n",
        "goal1 = fund_goal.where(fund_goal.index == 2000.0).dropna()\n",
        "goal2 = fund_goal.where(fund_goal.index == 3000.0).dropna()\n",
        "print(goal3,goal1,goal2)\n",
        "\n",
        "#.where(5000.0)))\n",
        "#print(id_goal.filter(index=5000.0))\n",
        "id_goal = df1.groupby(by=\"goal\",sort=False,as_index=True).size()\n",
        "l1 = sorted(id_goal.iteritems(), key = lambda x: x[1],reverse=True)\n",
        "for l in l1[:3]:\n",
        "  print(l )    \n",
        "\n"
      ],
      "metadata": {
        "colab": {
          "base_uri": "https://localhost:8080/"
        },
        "id": "JogJOnRII-qC",
        "outputId": "535a7571-72bf-4f6d-f04d-859cdc942ad6"
      },
      "execution_count": null,
      "outputs": [
        {
          "output_type": "stream",
          "name": "stdout",
          "text": [
            "The ideal pledge goal\n",
            "goal\n",
            "5000.0    90.255544\n",
            "Name: backers, dtype: float64 goal\n",
            "2000.0    51.433912\n",
            "Name: backers, dtype: float64 goal\n",
            "3000.0    72.234043\n",
            "Name: backers, dtype: float64\n",
            "goal\n",
            "5000.0    1.261235\n",
            "Name: funded percentage, dtype: float64 goal\n",
            "2000.0    1.329306\n",
            "Name: funded percentage, dtype: float64 goal\n",
            "3000.0    1.419589\n",
            "Name: funded percentage, dtype: float64\n",
            "(5000.0, 947)\n",
            "(2000.0, 749)\n",
            "(1000.0, 713)\n"
          ]
        }
      ]
    },
    {
      "cell_type": "code",
      "source": [
        "goal= [str(l[0]) for l in l1[:3]]\n",
        "goal_Frequency = [int(l[1]) for l in l1[:3]]\n",
        "\n",
        "print(goal,goal_Frequency )\n",
        "fig, ax = plt.subplots()\n",
        "rects1 = ax.bar(goal,goal_Frequency, color=['Chocolate', 'coral', 'cornflowerblue'])\n",
        "\n",
        "# Add some text for labels, title and custom x-axis tick labels, etc.\n",
        "ax.set_ylabel('Frequency of Pledge Goal in Dataframe', fontsize=12)\n",
        "ax.set_xlabel('Pledge Goals', fontsize=12)\n",
        "ax.set_title('The top 3 Pledge goals around for launching the successful campaign is', fontsize=12)\n",
        "ax.set_xticks(goal)\n",
        "ax.set_xticklabels(goal)\n",
        "#ax.barh(goal_Frequency,width=\"100\")\n",
        "ax.set_yticks(goal_Frequency)\n",
        "ax.set_yticklabels(goal_Frequency)\n",
        "#ax.barh(goal_Frequency,width= '20')\n",
        "fig.tight_layout()\n",
        "#fig.savefig('Histogram_of_Duration', dpi=200)\n",
        "plt.show()\n",
        "\n",
        "#print(id_goal[\"backers\"])"
      ],
      "metadata": {
        "colab": {
          "base_uri": "https://localhost:8080/",
          "height": 314
        },
        "id": "CFktIrHzhCGE",
        "outputId": "616ca569-9492-4366-94ec-36b9220e6b53"
      },
      "execution_count": null,
      "outputs": [
        {
          "output_type": "stream",
          "name": "stdout",
          "text": [
            "['5000.0', '2000.0', '1000.0'] [947, 749, 713]\n"
          ]
        },
        {
          "output_type": "display_data",
          "data": {
            "image/png": "[encoded data removed]",
            "text/plain": [
              "<Figure size 432x288 with 1 Axes>"
            ]
          },
          "metadata": {
            "needs_background": "light"
          }
        }
      ]
    },
    {
      "cell_type": "code",
      "source": [
        "print(\"What type of projects would be most successful in getting funded\")\n",
        "ideal_time_start = df[\"status\"]==\"successful\"\n",
        "ideal_fund = df[\"funded percentage\"] >= 1.0\n",
        "id_goal = df1.groupby(by=\"category\",sort=False,as_index=True).size()\n",
        "l1 = sorted(id_goal.iteritems(), key = lambda x: x[1],reverse=True)\n",
        "for l in l1[:3]:\n",
        "  print(l)\n",
        "goal= [l[0] for l in l1[:3]]\n",
        "goal_Frequency = [l[1] for l in l1[:3]]\n",
        "\n",
        "fig, ax = plt.subplots()\n",
        "rects1 = ax.bar(goal,goal_Frequency, color=['Chocolate', 'coral', 'cornflowerblue'])\n",
        "\n",
        "# Add some text for labels, title and custom x-axis tick labels, etc.\n",
        "ax.set_ylabel('Frequency of Categories in Dataframe', fontsize=12)\n",
        "ax.set_xlabel('Category', fontsize=12)\n",
        "ax.set_title('The top 3 Categories around for launching the successful campaign is', fontsize=12)\n",
        "ax.set_xticks(goal)\n",
        "ax.set_xticklabels(goal)\n",
        "ax.barh(goal_Frequency,width=\"100\", label=rects1)\n",
        "ax.set_yticks(goal_Frequency)\n",
        "\n",
        "#ax.bar_label(rects1,label_type='center')\n",
        "fig.tight_layout()\n",
        "#fig.savefig('Histogram_of_Duration', dpi=200)\n",
        "plt.show()"
      ],
      "metadata": {
        "colab": {
          "base_uri": "https://localhost:8080/",
          "height": 366
        },
        "id": "4-e6NEnMQTdI",
        "outputId": "7699bebd-52f7-4a78-dae9-99011e2840e6"
      },
      "execution_count": null,
      "outputs": [
        {
          "output_type": "stream",
          "name": "stdout",
          "text": [
            "What type of projects would be most successful in getting funded\n",
            "('Music', 3286)\n",
            "('Film &amp; Video', 2806)\n",
            "('Art', 990)\n"
          ]
        },
        {
          "output_type": "display_data",
          "data": {
            "image/png": "[encoded data removed]",
            "text/plain": [
              "<Figure size 432x288 with 1 Axes>"
            ]
          },
          "metadata": {
            "needs_background": "light"
          }
        }
      ]
    }
  ]
}